{
 "cells": [
  {
   "cell_type": "code",
   "execution_count": 2,
   "metadata": {},
   "outputs": [],
   "source": [
    "import pandas as pd\n",
    "import tweepy\n",
    "from textblob import TextBlob\n"
   ]
  },
  {
   "cell_type": "code",
   "execution_count": 3,
   "metadata": {},
   "outputs": [],
   "source": [
    "from nltk.corpus import stopwords\n",
    "from nltk.stem import PorterStemmer\n",
    "from nltk.tokenize import TweetTokenizer"
   ]
  },
  {
   "cell_type": "code",
   "execution_count": 4,
   "metadata": {},
   "outputs": [],
   "source": [
    "import re\n",
    "import string\n",
    "\n",
    "from nltk.corpus import stopwords\n",
    "from nltk.stem import PorterStemmer\n",
    "from nltk.tokenize import TweetTokenizer\n",
    "\n",
    "polarities = {1:'Very Negative',2:'Negative', 3:'Neutral', 4:'Positive', 5:'Very Positive'}\n",
    "\n",
    "def process_tweet(tweet):\n",
    "    '''\n",
    "    Input:\n",
    "        tweet: a string containing a tweet\n",
    "    Output:\n",
    "        tweets_clean: a list of words containing the processed tweet\n",
    "\n",
    "    '''\n",
    "    stemmer = PorterStemmer()\n",
    "    stopwords_english = stopwords.words('english')\n",
    "    # remove stock market tickers like $GE\n",
    "    tweet = re.sub(r'\\$\\w*', '', tweet)\n",
    "    # remove old style retweet text \"RT\"\n",
    "    tweet = re.sub(r'^RT[\\s]+', '', tweet)\n",
    "    # remove hyperlinks\n",
    "    tweet = re.sub(r'https?:\\/\\/.*[\\r\\n]*', '', tweet)\n",
    "    # remove hashtags\n",
    "    # only removing the hash # sign from the word\n",
    "    tweet = re.sub(r'#', '', tweet)\n",
    "    # tokenize tweets\n",
    "#     tokenizer = TweetTokenizer(preserve_case=False, strip_handles=True,\n",
    "#                                reduce_len=True)\n",
    "#     tweet_tokens = tokenizer.tokenize(tweet)\n",
    "\n",
    "#     tweets_clean = []\n",
    "#     for word in tweet_tokens:\n",
    "#         if (word not in stopwords_english and  # remove stopwords\n",
    "#             word not in string.punctuation):  # remove punctuation\n",
    "#             # tweets_clean.append(word)\n",
    "#             stem_word = stemmer.stem(word)  # stemming word\n",
    "#             tweets_clean.append(stem_word)\n",
    "\n",
    "    return tweet\n",
    "\n",
    "\n",
    "def test_lookup(func):\n",
    "    freqs = {('sad', 0): 4,\n",
    "             ('happy', 1): 12,\n",
    "             ('oppressed', 0): 7}\n",
    "    word = 'happy'\n",
    "    label = 1\n",
    "    if func(freqs, word, label) == 12:\n",
    "        return 'SUCCESS!!'\n",
    "    return 'Failed Sanity Check!'\n",
    "\n",
    "\n",
    "def lookup(freqs, word, label):\n",
    "    '''\n",
    "    Input:\n",
    "        freqs: a dictionary with the frequency of each pair (or tuple)\n",
    "        word: the word to look up\n",
    "        label: the label corresponding to the word\n",
    "    Output:\n",
    "        n: the number of times the word with its corresponding label appears.\n",
    "    '''\n",
    "    n = 0  # freqs.get((word, label), 0)\n",
    "\n",
    "    pair = (word, label)\n",
    "    if (pair in freqs):\n",
    "        n = freqs[pair]\n",
    "\n",
    "    return n\n",
    "\n",
    "\n",
    "\n",
    "def normalize_sentiment(val):\n",
    "    \n",
    "    senMin = -1\n",
    "    senMax = 1\n",
    "    polMin = 1\n",
    "    polMax =5\n",
    "\n",
    "    newval = ((val -senMin)/(senMax-senMin))*(polMax-polMin)+polMin\n",
    "        \n",
    "    return round(newval)"
   ]
  },
  {
   "cell_type": "code",
   "execution_count": 2,
   "metadata": {},
   "outputs": [],
   "source": [
    "#Aim is to get tweets based on hashtags which has covid-19 apps, security, covid19.\n",
    "#Data Extraction first\n",
    "#Reference : https://towardsdatascience.com/creating-the-twitter-sentiment-analysis-program-in-python-with-naive-bayes-classification-672e5589a7ed"
   ]
  },
  {
   "cell_type": "code",
   "execution_count": 5,
   "metadata": {},
   "outputs": [],
   "source": [
    "access_token_key='1097367016456011776-bKEHl6bEgWc7gnd3cIqu3KlYsWgoi4'\n",
    "access_token_secret='k8CVegeF8hzHJJQDTWEqQ1rzUVYn228TK5eMaO8Pan2M9'\n",
    "consumer_key='CdNDp6wqPDmgUAQqCkikjNmTG'\n",
    "consumer_secret='jTSjfniCLUEdmLplHGEniFVz0L2Ha7yfrWhxUvOGBWuN51OOyQ'\n",
    "\n",
    "auth = tweepy.OAuthHandler(consumer_key,consumer_secret)\n",
    "\n",
    "auth.set_access_token(access_token_key,access_token_secret)"
   ]
  },
  {
   "cell_type": "code",
   "execution_count": 6,
   "metadata": {},
   "outputs": [],
   "source": [
    "twtr = tweepy.API(auth,wait_on_rate_limit=True)"
   ]
  },
  {
   "cell_type": "code",
   "execution_count": 7,
   "metadata": {},
   "outputs": [],
   "source": [
    "covid_keys = '#covid19apps OR #covidtracker OR #covidappsecurity'"
   ]
  },
  {
   "cell_type": "code",
   "execution_count": 20,
   "metadata": {},
   "outputs": [],
   "source": [
    "counter = 0\n",
    "new_entry=[]\n",
    "for page in tweepy.Cursor(twtr.search,q=covid_keys,count=200,include_rts=False).pages():\n",
    "    for status in page:\n",
    "        \n",
    "        status = status._json\n",
    "        #print(status['text'])\n",
    "        twt=process_tweet(status['text'])\n",
    "        opinion = polarities[normalize_sentiment(TextBlob(twt).sentiment.polarity)]\n",
    "        timestamp = status['created_at']\n",
    "        counter+=1\n",
    "        \n",
    "        new_entry.append([counter,twt,timestamp,opinion])\n",
    "        \n",
    "        \n",
    "    \n",
    " "
   ]
  },
  {
   "cell_type": "code",
   "execution_count": null,
   "metadata": {},
   "outputs": [],
   "source": [
    "#Five categories: \n",
    "#{1 to be strongly negative, 2 to be negative, 3 to be neutral, 4 to be positive, and 5 to be strongly positive}"
   ]
  },
  {
   "cell_type": "code",
   "execution_count": 36,
   "metadata": {},
   "outputs": [],
   "source": [
    "# 1=5\n",
    "# -1=1\n",
    "\n",
    "\n",
    "#normalization formula from:https://stats.stackexchange.com/questions/281162/scale-a-number-between-a-range\n",
    "\n",
    "    #   or\n",
    "#   newvalue= (max'-min')/(max-min)*(value-min)+min'."
   ]
  },
  {
   "cell_type": "code",
   "execution_count": 24,
   "metadata": {},
   "outputs": [],
   "source": [
    "df = pd.DataFrame(new_entry, columns=['id','Tweet','time','Opinion'])"
   ]
  },
  {
   "cell_type": "code",
   "execution_count": 33,
   "metadata": {},
   "outputs": [
    {
     "data": {
      "text/plain": [
       "(array(['Negative', 'Neutral', 'Positive', 'Very Negative',\n",
       "        'Very Positive'], dtype=object),\n",
       " array([  49, 2739, 2506,   16,   62], dtype=int64))"
      ]
     },
     "execution_count": 33,
     "metadata": {},
     "output_type": "execute_result"
    }
   ],
   "source": [
    "import numpy as np\n",
    "np.unique(df['Opinion'],return_counts=True)"
   ]
  },
  {
   "cell_type": "code",
   "execution_count": null,
   "metadata": {},
   "outputs": [],
   "source": [
    "df.to_csv('')"
   ]
  }
 ],
 "metadata": {
  "kernelspec": {
   "display_name": "Python 3",
   "language": "python",
   "name": "python3"
  }
 },
 "nbformat": 4,
 "nbformat_minor": 2
}
